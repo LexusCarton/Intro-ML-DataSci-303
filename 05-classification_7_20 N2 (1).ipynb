{
 "cells": [
  {
   "cell_type": "markdown",
   "metadata": {
    "id": "snMo9ZsfZrjJ"
   },
   "source": [
    "## Project 5 : Classification"
   ]
  },
  {
   "cell_type": "markdown",
   "metadata": {
    "id": "FD5coBt7ZrjM"
   },
   "source": [
    "## Instructions\n",
    "\n",
    "### Description\n",
    "\n",
    "Practice classification on the Titanic dataset.\n",
    "\n",
    "### Grading\n",
    "\n",
    "For grading purposes, we will clear all outputs from all your cells and then run them all from the top.  Please test your notebook in the same fashion before turning it in.\n",
    "\n",
    "### Submitting Your Solution\n",
    "\n",
    "To submit your notebook, first clear all the cells (this won't matter too much this time, but for larger data sets in the future, it will make the file smaller).  Then use the File->Download As->Notebook to obtain the notebook file.  Finally, submit the notebook file on Canvas.\n"
   ]
  },
  {
   "cell_type": "code",
   "execution_count": null,
   "metadata": {
    "id": "Qy1IWSV2ZrjN"
   },
   "outputs": [],
   "source": [
    "import pandas as pd\n",
    "import numpy as np\n",
    "import sklearn as sk\n",
    "import matplotlib.pyplot as plt\n",
    "import seaborn as sns\n",
    "\n",
    "plt.style.use('ggplot')\n",
    "\n",
    "%matplotlib inline\n",
    "%config InlineBackend.figure_format = 'retina'"
   ]
  },
  {
   "cell_type": "markdown",
   "metadata": {
    "collapsed": true,
    "id": "yTgZ8xwPZrjO"
   },
   "source": [
    "### Introduction\n",
    "\n",
    "On April 15, 1912, the largest passenger liner ever made collided with an iceberg during her maiden voyage. When the Titanic sank it killed 1502 out of 2224 passengers and crew. This sensational tragedy shocked the international community and led to better safety regulations for ships. One of the reasons that the shipwreck resulted in such loss of life was that there were not enough lifeboats for the passengers and crew. Although there was some element of luck involved in surviving the sinking, some groups of people were more likely to survive than others.\n",
    "\n",
    "Intro Videos: \n",
    "https://www.youtube.com/watch?v=3lyiZMeTKIo\n",
    "and\n",
    "https://www.youtube.com/watch?v=ItjXTieWKyI \n",
    "\n",
    "The `titanic_data.csv` file contains data for `887` of the real Titanic passengers. Each row represents one person. The columns describe different attributes about the person including whether they survived (`0=No`), their age, their passenger-class (`1=1st Class, Upper`), gender, and the fare they paid (£s*). For more on the currency: http://www.statisticalconsultants.co.nz/blog/titanic-fare-data.html\n",
    "\n",
    "We are going to try to see if there are correlations between the feature data provided (find a best subset of features) and passenger survival."
   ]
  },
  {
   "cell_type": "markdown",
   "metadata": {
    "id": "Yo2wAo3vZrjO"
   },
   "source": [
    "### Problem 1: Load and understand the data (35 points)\n",
    "\n",
    "#### Your task (some of this is the work you completed for L14 - be sure to copy that work into here as needed)\n",
    "Conduct some preprocessing steps to explore the following and provide code/answers in the below cells:\n",
    "1. Load the `titanic_data.csv` file into a pandas dataframe\n",
    "2. Explore the data provided (e.g., looking at statistics using describe(), value_counts(), histograms, scatter plots of various features, etc.) \n",
    "3. What are the names of feature columns that appear to be usable for learning?\n",
    "4. What is the name of the column that appears to represent our target?\n",
    "5. Formulate a hypothesis about the relationship between given feature data and the target\n",
    "6. How did Pclass affect passenngers' chances of survival?\n",
    "7. What is the age distribution of survivors?"
   ]
  },
  {
   "cell_type": "code",
   "execution_count": null,
   "metadata": {
    "id": "g_FdHGWgZrjP"
   },
   "outputs": [],
   "source": [
    "# Step 1. Load the `titanic_data.csv` file into a pandas dataframe\n",
    "\n",
    "\n",
    "\n",
    "import pandas as pd \n",
    "import os\n",
    "\n",
    "\n",
    "##this makes visualizations from highly correlated variables. \n",
    "\n",
    "ship_df=pd.read_csv(r'C:\\Users\\Lexus\\Desktop\\titanic_data.csv')\n",
    "print(ship_df)\n"
   ]
  },
  {
   "cell_type": "code",
   "execution_count": null,
   "metadata": {
    "id": "W39VMl34ZrjP"
   },
   "outputs": [],
   "source": [
    "# Step 2. Explore the data provided (e.g., looking at statistics using describe(), value_counts(), histograms, scatter plots of various features, etc.) \n",
    "\n",
    "ship_df.describe()\n",
    "\n",
    "#ship_df.count()\n",
    "\n",
    "\n",
    "\n",
    "#plt.pie( ship_df['Pclass'],labels=ship_df['Deceased'])\n",
    "plt.show()"
   ]
  },
  {
   "cell_type": "code",
   "execution_count": null,
   "metadata": {},
   "outputs": [],
   "source": [
    "ship_df.corr()\n",
    "\n",
    "#shows a correlation table of all numeric data "
   ]
  },
  {
   "cell_type": "code",
   "execution_count": null,
   "metadata": {},
   "outputs": [],
   "source": [
    "ship_df.count()"
   ]
  },
  {
   "cell_type": "code",
   "execution_count": null,
   "metadata": {},
   "outputs": [],
   "source": [
    "\n",
    "ax=ship_df.Sex.hist()\n",
    "ax.set_xlabel('Male vs Female')\n",
    "ax.set_ylabel('count')\n"
   ]
  },
  {
   "cell_type": "code",
   "execution_count": null,
   "metadata": {},
   "outputs": [],
   "source": [
    "plt.scatter(ship_df['Age'], ship_df['Fare']) \n",
    "plt.xlabel('Age'); plt.ylabel('Fare');\n",
    "plt.show()"
   ]
  },
  {
   "cell_type": "markdown",
   "metadata": {
    "id": "8P3MyrYvZrjP"
   },
   "source": [
    "---\n",
    "\n",
    "**Edit this cell to provide answers to the following steps:**\n",
    "\n",
    "---\n",
    "\n",
    "Step 3. What are the names of feature columns that appear to be usable for learning?\n",
    "\n",
    "'Pclass', 'Age', 'Siblings/Spouses Aboard', 'Parents/Children Aboard', 'Fare' and Suvived\n",
    "\n",
    "Step 4. What is the name of the column that appears to represent our target?\n",
    "\n",
    "The target column is survived as it is the outcome. \n",
    "\n",
    "Step 5. Formulate a hypothesis about the relationship between given feature data and the target\n",
    "\n",
    "does 'Pclass', 'Age', 'Siblings/Spouses Aboard', 'Parents/Children Aboard', 'Fare' have an effect on the survival rate in this given this sampling of titanic data. \n"
   ]
  },
  {
   "cell_type": "code",
   "execution_count": null,
   "metadata": {
    "id": "UT2-1I86ZrjQ"
   },
   "outputs": [],
   "source": [
    "#Step 6. How did Pclass affect passenngers' chances of survival?\n",
    "#Show your work with a bar plot, dataframe selection, or visual of your choice.\n",
    "\n",
    "\n",
    "Grouping=ship_df.groupby('Pclass').mean().Survived\n",
    "#Grouping=ship_df.groupby('Pclass').median().Survived\n",
    "ax=Grouping.plot(kind='bar')\n",
    "ax.set_ylabel('Survival rate')\n",
    "\n",
    "plt.show()\n"
   ]
  },
  {
   "cell_type": "code",
   "execution_count": null,
   "metadata": {
    "id": "beX7g2S2ZrjQ"
   },
   "outputs": [],
   "source": [
    "#Step 7. What is the age distribution of survivors?\n",
    "#Show your work with a dataframe operation and/or histogram plot.\n",
    "\n",
    "Grouping=ship_df.groupby('Age').mean().Survived\n",
    "#ax=Grouping.plot(kind='bar',figsize=[10,7])\n",
    "ax=Grouping.hist()\n",
    "ax.set_xlabel('Age')\n",
    "ax.set_ylabel('count')\n"
   ]
  },
  {
   "cell_type": "markdown",
   "metadata": {
    "id": "Ei9hTK4wZrjR"
   },
   "source": [
    "### Problem 2: transform the data (10 points)\n",
    "The `Sex` column is categorical, meaning its data are separable into groups, but not numerical. To be able to work with this data, we need numbers, so you task is to transform the `Sex` column into numerical data with pandas' `get_dummies` feature and remove the original categorical `Sex` column."
   ]
  },
  {
   "cell_type": "code",
   "execution_count": null,
   "metadata": {
    "id": "wcBPWipsZrjR"
   },
   "outputs": [],
   "source": [
    "ship_df = pd.get_dummies(ship_df, columns=['Sex'], prefix='Sex', drop_first=False)\n",
    "\n",
    "ship_df.describe()\n",
    "# Male =1, Female =0 \n",
    "#the new colum is Sex_male\n",
    "#to get the percentage of female just subtract 100% from sex population\n",
    "\n",
    "##print each variable type "
   ]
  },
  {
   "cell_type": "markdown",
   "metadata": {
    "id": "XipNK7BMZrjR"
   },
   "source": [
    "### Problem 3: Classification (30 points)\n",
    "Now that the data is transformed, we want to run various classification experiments on it. The first is `K Nearest Neighbors`, which you will conduct by:\n",
    "\n",
    "1. Define input and target data by creating lists of dataframe columns (e.g., inputs = ['Pclass', etc.)\n",
    "2. Split the data into training and testing sets with `train_test_split()`\n",
    "3. Create a `KNeighborsClassifier` using `5` neighbors at first (you can experiment with this parameter)\n",
    "4. Train your model by passing the training dataset to `fit()`\n",
    "5. Calculate predicted target values(y_hat) by passing the testing dataset to `predict()`\n",
    "6. Print the accuracy of the model with `score()`\n",
    "\n",
    "** Note: If you get a python warning as you use the Y, trainY, or testY vector in some of the function calls about \"DataConversionWarning: A column-vector y was passed when a 1d array was expected. Please change the shape of y to (n_samples, )\", you can look up how to use trainY.values.ravel() or trainY.values.flatten() or another function, etc."
   ]
  },
  {
   "cell_type": "code",
   "execution_count": null,
   "metadata": {
    "id": "tbb25y7RZrjS"
   },
   "outputs": [],
   "source": [
    "#inputs/predictors = \n",
    "#target = \n",
    "\n",
    "\n",
    "\n",
    "X = ship_df[['Pclass', 'Age','Sex_male','Sex_female', 'Siblings/Spouses Aboard', 'Parents/Children Aboard', 'Fare']]\n",
    "y = ship_df['Survived']"
   ]
  },
  {
   "cell_type": "code",
   "execution_count": null,
   "metadata": {
    "id": "pS7mNB05ZrjS"
   },
   "outputs": [],
   "source": [
    "from sklearn.model_selection import train_test_split\n",
    "#train, test = train_test_split(data)\n",
    "train, test = train_test_split(ship_df)\n",
    "#Xtrain, Xtest, ytrain, ytest = train_test_split(X, y,test_size=0.2, random_state=42)"
   ]
  },
  {
   "cell_type": "code",
   "execution_count": null,
   "metadata": {
    "id": "yk-xmVtEZrjS"
   },
   "outputs": [],
   "source": [
    "from sklearn.neighbors import KNeighborsClassifier\n",
    "from sklearn import neighbors\n",
    "k = 6\n",
    "\n",
    "#split into train test split\n",
    "\n",
    "X = train[['Pclass', 'Age','Sex_male','Sex_female', 'Siblings/Spouses Aboard', 'Parents/Children Aboard', 'Fare']]\n",
    "y = train['Survived']\n",
    "\n",
    "#creat KneighborClassifier usinng 5 neighbors\n",
    "\n",
    "model = neighbors.KNeighborsClassifier(k)\n",
    "\n",
    "#train model using fit dataset fit()\n",
    "model.fit(X,y)\n",
    "#model.metric\n",
    "#model.p\n",
    "\n",
    "\n",
    "\n",
    "#use predict()\n",
    "predicted = model.predict(test[['Pclass', 'Age','Sex_male','Sex_female', 'Siblings/Spouses Aboard', 'Parents/Children Aboard', 'Fare']])\n",
    "print(\"prediction\",predicted)\n",
    "\n",
    "\n",
    "#print accuracy ussing the score()\n",
    "print(\"accuracy\",model.score(test[['Pclass', 'Age','Sex_male','Sex_female','Siblings/Spouses Aboard', 'Parents/Children Aboard', 'Fare']],test['Survived']))\n",
    "\n"
   ]
  },
  {
   "cell_type": "markdown",
   "metadata": {
    "id": "l9prt7aTZrjS"
   },
   "source": [
    "### Problem 4: Cross validation, classification report (15 points)\n",
    "- Using the concepts from the 17-model_selection slides and the [`cross_val_score`](http://scikit-learn.org/stable/modules/generated/sklearn.model_selection.cross_val_score.html) function from scikit-learn, estimate the f-score ([`f1-score`](http://scikit-learn.org/stable/modules/generated/sklearn.metrics.f1_score.html#sklearn.metrics.f1_score) (you can use however many folds you wish). To get `cross_val_score` to use `f1-score` rather than the default accuracy measure, you will need to set the `scoring` parameter and use a scorer object created via [`make_scorer`](http://scikit-learn.org/stable/modules/generated/sklearn.metrics.make_scorer.html#sklearn.metrics.make_scorer).  Since this has a few parts to it, let me just give you that parameter: ```scorerVar = make_scorer(f1_score, pos_label=1)```\n",
    "\n",
    "- Using the concepts from the end of the 14-classification slides, output a confusion matrix.\n",
    "\n",
    "- Also, output a classification report [`classification_report`](http://scikit-learn.org/stable/modules/generated/sklearn.metrics.classification_report.html) from sklearn.metrics showing more of the metrics: precision, recall, f1-score for both of our classes."
   ]
  },
  {
   "cell_type": "code",
   "execution_count": null,
   "metadata": {
    "id": "Ud5y-XedZrjT",
    "scrolled": false
   },
   "outputs": [],
   "source": [
    "from sklearn import metrics\n",
    "from sklearn.metrics import confusion_matrix, f1_score, classification_report, make_scorer\n",
    "from sklearn import model_selection\n",
    "from sklearn.model_selection import cross_val_score\n",
    "\n",
    "X = ship_df[['Pclass', 'Age','Sex_male','Sex_female', 'Siblings/Spouses Aboard', 'Parents/Children Aboard', 'Fare']]\n",
    "#X = ship_df[['Pclass', 'Age', 'Siblings/Spouses Aboard', 'Parents/Children Aboard', 'Fare']]\n",
    "y = ship_df['Survived']\n",
    "\n",
    "#build f1\n",
    "\n",
    "#f1=f1_score\n",
    "F1=f1_score(test['Survived'],predicted,average=None)\n",
    "print(\"f1\",F1)\n",
    "\n",
    "\n",
    "#Confusion matrix\n",
    "Matrix=(\"Matrix\",confusion_matrix(model.predict(test[['Pclass', 'Age','Sex_male','Sex_female', 'Siblings/Spouses Aboard', 'Parents/Children Aboard', 'Fare']]), test['Survived']))\n",
    "print(\"matrix\",Matrix)\n",
    "\n",
    "\n",
    "#scorer vale\n",
    "scorerVar = make_scorer(f1_score, pos_label=1)\n",
    "\n",
    "#set scoring parameter \n",
    "scores=cross_val_score(model,train[['Pclass', 'Age','Sex_male','Sex_female', 'Siblings/Spouses Aboard', 'Parents/Children Aboard', 'Fare']], train['Survived'],scoring=scorerVar,cv=7)\n",
    "#scorerVar = make_scorer(f1_score, pos_label=1)\n",
    "print(\"cross validation score\",scores)\n",
    "#scores = cross_val_score(model, data[['x', 'y']], data['class'],cv = 5)\n",
    "#scores\n",
    "\n",
    "\n",
    "\n",
    "#Report=classification_report(y_true,ypred,*,labels=None)\n",
    "Report=classification_report(test['Survived'],predicted,labels=None)\n",
    "print('Report',Report)"
   ]
  },
  {
   "cell_type": "markdown",
   "metadata": {
    "id": "6KRHtfpZZrjT"
   },
   "source": [
    "### Problem 5: Support Vector Machines (15 points)\n",
    "Now, repeat the above experiment using the using a Support Vector classifier [`SVC`](http://scikit-learn.org/stable/modules/generated/sklearn.svm.SVC.html) with default parameters (RBF kernel) model in scikit-learn, and output:\n",
    "\n",
    "- The fit accuracy (using the `score` method of the model)\n",
    "- The f-score (using the [`cross_val_score`](http://scikit-learn.org/stable/modules/generated/sklearn.model_selection.cross_val_score.html) function)\n",
    "- The confusion matrix\n",
    "- The precision, recall, and f-measure for the 1 class (you can just print the results of the [`classification_report`](http://scikit-learn.org/stable/modules/generated/sklearn.metrics.classification_report.html) function from sklearn.metrics)"
   ]
  },
  {
   "cell_type": "code",
   "execution_count": null,
   "metadata": {
    "id": "zGjGEZD6ZrjT"
   },
   "outputs": [],
   "source": [
    "from sklearn import svm\n",
    "from sklearn.model_selection import cross_val_score\n",
    "\n",
    "#create a model object\n",
    "model = svm.SVC(kernel='rbf', C=50) # call the support vector classifier function on the model\n",
    "#model.fit(data[['x','y']], data['class'])\n",
    "\n",
    "\n",
    "\n",
    "#train our model\n",
    "model.fit(train[['Pclass', 'Age','Sex_male','Sex_female', 'Siblings/Spouses Aboard', 'Parents/Children Aboard', 'Fare']],train['Survived'])\n",
    "#model.fit(train[['Pclass', 'Age', 'Siblings/Spouses Aboard', 'Parents/Children Aboard', 'Fare']], train['Survived'])\n",
    "\n",
    "\n",
    "#evaluate the model \n",
    "print(\"accuracy\",model.score(test[['Pclass', 'Age','Sex_male','Sex_female', 'Siblings/Spouses Aboard', 'Parents/Children Aboard', 'Fare']],test['Survived']))\n",
    "\n",
    "#setup to get f-score and cv\n",
    "scores = cross_val_score(model, train[['Pclass', 'Age','Sex_male','Sex_female', 'Siblings/Spouses Aboard', 'Parents/Children Aboard', 'Fare']], train['Survived'], scoring=scorerVar, cv=10)\n",
    "#scorerVar = make_scorer(f1_score, pos_label=1)\n",
    "print(\"cross validation scores\",scores)\n",
    "\n",
    "\n",
    "#confusion matrix\n",
    "\n",
    "#print(model.score(test[['Pclass', 'Age', 'Siblings/Spouses Aboard', 'Parents/Children Aboard', 'Fare']],test['Survived']))\n",
    "Matrix=(\"Matrix\",confusion_matrix(model.predict(test[['Pclass', 'Age','Sex_male','Sex_female', 'Siblings/Spouses Aboard', 'Parents/Children Aboard', 'Fare']]), test['Survived']))\n",
    "print(\"matrix\",Matrix)\n",
    "\n",
    "\n",
    "#classification report\n",
    "Report=classification_report(test['Survived'],predicted,labels=None)\n",
    "print(\"report\",Report)\n"
   ]
  },
  {
   "cell_type": "markdown",
   "metadata": {
    "id": "WSDsdQFOZrjU"
   },
   "source": [
    "### Problem 6: Logistic Regression (15 points)\n",
    "\n",
    "Now, repeat the above experiment using the [`LogisticRegression`](http://scikit-learn.org/stable/modules/generated/sklearn.linear_model.LogisticRegression.html) model in scikit-learn, and output:\n",
    "\n",
    "- The fit accuracy (using the `score` method of the model)\n",
    "- The f-score (using the [`cross_val_score`](http://scikit-learn.org/stable/modules/generated/sklearn.model_selection.cross_val_score.html) function)\n",
    "- The confusion matrix\n",
    "- The precision, recall, and f-measure for the 1 class (you can just print the results of the [`classification_report`](http://scikit-learn.org/stable/modules/generated/sklearn.metrics.classification_report.html) function from sklearn.metrics)"
   ]
  },
  {
   "cell_type": "code",
   "execution_count": null,
   "metadata": {
    "id": "nnZIwTdPZrjU"
   },
   "outputs": [],
   "source": [
    "from sklearn.linear_model import LogisticRegression\n",
    "from sklearn import linear_model\n",
    "from sklearn.model_selection import train_test_split\n",
    "\n",
    "X = 'Pclass', 'Age','Sex_male','Sex_female', 'Siblings/Spouses Aboard', 'Parents/Children Aboard', 'Fare'\n",
    "y = 'Survived'\n",
    "\n",
    "#create a model object\n",
    "model=LogisticRegression()\n",
    "model = linear_model.LogisticRegression()\n",
    "\n",
    "#train our model\n",
    "model.fit(train[['Pclass', 'Age','Sex_male','Sex_female', 'Siblings/Spouses Aboard', 'Parents/Children Aboard', 'Fare']],train['Survived'])\n",
    "#model.fit(train[['Pclass', 'Age', 'Siblings/Spouses Aboard', 'Parents/Children Aboard', 'Fare']], train['Survived'])\n",
    "\n",
    "\n",
    "#evaluate the model \n",
    "print(\"accuracy\",model.score(test[['Pclass', 'Age','Sex_male','Sex_female', 'Siblings/Spouses Aboard', 'Parents/Children Aboard', 'Fare']],test['Survived']))\n",
    "\n",
    "\n",
    "\n",
    "#setup to get f-score and cv\n",
    "scores = cross_val_score(model, train[['Pclass', 'Age','Sex_male','Sex_female', 'Siblings/Spouses Aboard', 'Parents/Children Aboard', 'Fare']], train['Survived'], scoring=scorerVar, cv=10)\n",
    "#scorerVar = make_scorer(f1_score, pos_label=1)\n",
    "print(\"cross vaidation score\",scores)\n",
    "\n",
    "\n",
    "\n",
    "#confusion matrix\n",
    "print(model.score(test[['Pclass', 'Age', 'Siblings/Spouses Aboard','Sex_male','Sex_female', 'Parents/Children Aboard', 'Fare']],test['Survived']))\n",
    "Matrix=(\"Matrix\",confusion_matrix(model.predict(test[['Pclass', 'Age','Sex_male','Sex_female', 'Siblings/Spouses Aboard', 'Parents/Children Aboard', 'Fare']]), test['Survived']))\n",
    "print(Matrix)\n",
    "\n",
    "#classification report\n",
    "\n",
    "#Report=classification_report(y_true,ypred,*,labels=None)\n",
    "Report=classification_report(test['Survived'],predicted,labels=None)\n",
    "print('Report',Report)"
   ]
  },
  {
   "cell_type": "markdown",
   "metadata": {
    "id": "fWmwls34ZrjU"
   },
   "source": [
    "### Problem 7: Comparision and Discussion (5 points)\n",
    "Edit this cell to provide a brief discussion (3-5 sentances at most):\n",
    "1. What was the model/algorithm that performed best for you?\n",
    "\n",
    "\n",
    "The Logistic regression had the highest f1 score ( the harmoic mean of recall and persion). They all had an accuracy around 70%, but the kNN was about 68%. The SVM had an accuracy value of 76% and the Logistic regreesion was 80%. The cross validation scores for the svm were lower than the compared models. \n",
    "\n",
    "The most true positives, 123 tp, came from the cross validation report. \n",
    "\n",
    "2. What feaures and parameters were used to achieve that performance?\n",
    "\n",
    "\n",
    "For the KNN i ustilize a k of 6. For the SVM i ustilized the RBF kernel and a C value of 50. I changed the CV in my cross validation parameter to 5 and then to 15 but it didn't seem to affect the classification report metrics. I set it to seven becuse I didn't want the future warning box to show up anymore. \n",
    "\n",
    "3. What insights did you gain from your experimentation about the predictive power of this dataset and did it match your original hypothesis about the relationship between given feature data and the target?\n",
    "\n",
    "when working with alot of features the best model to use it a logsitc regression. KNN is good for small sets of data. SVM and Logistic regression had simmular classification report metrics, but the cross validation report in SVM was smaller for all the features. \n"
   ]
  },
  {
   "cell_type": "markdown",
   "metadata": {
    "id": "IZLuk1FmZrjU"
   },
   "source": [
    "### Questionnaire\n",
    "1) How long did you spend on this assignment?\n",
    "5-6 hours. I completed it over multiple days in conjuction to 381 assignments. \n",
    "2) What did you like about it? What did you not like about it?\n",
    "Pd.dummies is easy to do. one thing i would like to know is how to seperate my groups easily. \n",
    "\n",
    "3) Did you find any errors or is there anything you would like changed?\n",
    "I thouhgt the wording on the dummy variable was a little difficult to understand. "
   ]
  },
  {
   "cell_type": "code",
   "execution_count": null,
   "metadata": {
    "id": "gQjugad_ZrjV"
   },
   "outputs": [],
   "source": []
  },
  {
   "cell_type": "code",
   "execution_count": null,
   "metadata": {
    "id": "g6qUjQrnZrjV"
   },
   "outputs": [],
   "source": []
  }
 ],
 "metadata": {
  "anaconda-cloud": {},
  "colab": {
   "name": "05-classification_7_20.ipynb",
   "provenance": []
  },
  "kernelspec": {
   "display_name": "Python 3 (ipykernel)",
   "language": "python",
   "name": "python3"
  },
  "language_info": {
   "codemirror_mode": {
    "name": "ipython",
    "version": 3
   },
   "file_extension": ".py",
   "mimetype": "text/x-python",
   "name": "python",
   "nbconvert_exporter": "python",
   "pygments_lexer": "ipython3",
   "version": "3.9.13"
  }
 },
 "nbformat": 4,
 "nbformat_minor": 1
}
