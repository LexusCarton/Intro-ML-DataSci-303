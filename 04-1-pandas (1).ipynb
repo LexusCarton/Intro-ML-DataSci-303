{
 "cells": [
  {
   "cell_type": "markdown",
   "metadata": {},
   "source": [
    "## Project 4-1 : Data Acquisition"
   ]
  },
  {
   "cell_type": "markdown",
   "metadata": {},
   "source": [
    "## Assignment Instructions\n",
    "\n",
    "### Description\n",
    "\n",
    "Some pandas and data acquisition problems.\n",
    "\n",
    "### Grading\n",
    "\n",
    "For grading purposes, we will clear all outputs from all your cells and then run them all from the top.  Please test your notebook in the same fashion before turning it in.\n",
    "\n",
    "### Submitting Your Solution\n",
    "\n",
    "To submit your notebook, first clear all the cells (this won't matter too much this time, but for larger data sets in the future, it will make the file smaller).  Then use the File->Download As->Notebook to obtain the notebook file.  Finally, submit the notebook file on Canvas."
   ]
  },
  {
   "cell_type": "markdown",
   "metadata": {},
   "source": [
    "### Helpful Resources\n",
    "There may be more posted in a Canvas announcement, so be sure to check there, as well.\n",
    "- [iloc and loc](https://www.shanelynn.ie/select-pandas-dataframe-rows-and-columns-using-iloc-loc-and-ix/)"
   ]
  },
  {
   "cell_type": "code",
   "execution_count": null,
   "metadata": {},
   "outputs": [],
   "source": [
    "# Imports\n",
    "import numpy as np\n",
    "import pandas as pd\n",
    "from pandas import Series, DataFrame"
   ]
  },
  {
   "cell_type": "markdown",
   "metadata": {},
   "source": [
    "### Problem: pandas and text file acquisition (20 points)\n",
    "\n",
    "Included with this assignment is a text file named `plants.txt` (source: [USDA](https://plants.usda.gov/java/)).  **Read this file into a pandas DataFrame object** (10 points), then write code to **find the answers to the questions** that follow (5 points each).  There are many ways to answer each of these questions - see if you can answer each in `3` lines of code or less (this won't affect your grade).  Show us your code below."
   ]
  },
  {
   "cell_type": "markdown",
   "metadata": {},
   "source": [
    "---\n",
    "\n",
    "**Questions for Problem (Write answers in this cell):**\n",
    "\n",
    "---\n",
    "\n",
    "(a) What is the common name of the plant whose symbol (in the Plants database) is 'ECAP'?\n",
    "\n",
    "Apache Hedgehog cactus \n",
    "\n",
    "(b) How many plants are listed in the Agavaceae family?\n",
    "\n",
    "253\n",
    "\n",
    "\n",
    "(c) How many different family names are there (ignoring missing/null family names)?\n",
    "542\n",
    "\n",
    "<br>**Note:** There are two acceptable answers to this questions that differ by 1.\n",
    "\n",
    "\n",
    "(d) How many plants have the term 'vulgaris' in their scientific name?\n",
    "\n",
    "\n",
    "133"
   ]
  },
  {
   "cell_type": "code",
   "execution_count": null,
   "metadata": {},
   "outputs": [],
   "source": [
    "# Your Code Here\n",
    "# Use the lecture notes to look through the data frame to properly answer the questions above!\n",
    "# Start by reading the plants file into a pandas dataframe\n",
    "import pandas as pd \n",
    "import os\n",
    "#df=pd.read_csv(r'C:\\Users\\Lexus\\Desktop\\CreditScoring.csv')\n",
    "\n",
    "\n",
    "#\"C:\\Users\\Lexus\\Desktop\\homebuying2.csv\"\n",
    "#print(df)\n",
    "#\"C:\\Users\\Lexus\\Desktop\\Mines\\Mines Fall 23\\plants.txt\"\n",
    "\n",
    "#f=open(r'C:\\Users\\Lexus\\Desktop\\Mines\\Mines Fall 23\\plants.txt','r')\n",
    "#print(f.read())\n",
    "\n",
    "#f = open('C:/Users/Lexus/Desktop/Mines/Mines Fall 23/plants.txt') # get an open file object\n",
    "#for line in f:                            # for loops work!\n",
    " #   print(line, end='')                   # print without an endline\n",
    "\n",
    "#f.close()\n",
    "\n",
    "\n",
    "file=pd.read_csv('C:/Users/Lexus/Desktop/Mines/Mines Fall 23/plants.txt')\n",
    "print(file)\n",
    "\n",
    "file.head()\n",
    "\n",
    "#file['Symbol']\n",
    "file.index.name='pineabble'\n",
    "file\n",
    "\n",
    "#######PART A #############\n",
    "\n",
    "file[file['Symbol']=='ECAP']\n",
    "#QuestionA.index='Symbol'\n",
    "\n",
    "\n",
    "\n",
    "\n",
    "#variable=pd.read_table('plants.txt')\n",
    "#print(variable)"
   ]
  },
  {
   "cell_type": "code",
   "execution_count": null,
   "metadata": {},
   "outputs": [],
   "source": [
    "\n",
    "\n",
    "########PART B###############\n",
    "\n",
    "\n",
    "file[file['Family']==('Agavaceae')]\n",
    "#print=len(partB)\n",
    "\n",
    "file[file['Family']==('Agavaceae')].count()\n",
    "#print=len(partB)"
   ]
  },
  {
   "cell_type": "code",
   "execution_count": null,
   "metadata": {
    "scrolled": true
   },
   "outputs": [],
   "source": [
    "\n",
    "\n",
    "########PART C  ###############\n",
    "file.isna().sum()  #missing values in family is 175\n",
    "##deletes repetative values \n",
    "obj=(file['Family'].unique())  #543\n",
    "#print(obj.count())\n",
    "\n",
    "\n",
    "print(len(obj))\n",
    "\n",
    "#file[file['Family']=='Agavaceae'].count()\n",
    "#file[file['Family']=='NaN'].sum()\n",
    "#print=len(partC)\n",
    "#file[file['Family']].sum()\n",
    "\n"
   ]
  },
  {
   "cell_type": "code",
   "execution_count": null,
   "metadata": {},
   "outputs": [],
   "source": [
    "#D1=file[file['Scientific Name with Author'].find('vulgaris').count()]\n",
    "#D1\n",
    "\n",
    "#file[str.find('vulgaris').count()]\n",
    "\n",
    "#D1=file.find('vulgaris')\n",
    "#print(D1)\n",
    "\n",
    "\n",
    "\n",
    "\n",
    "file['Scientific Name with Author']=file['Scientific Name with Author'].astype(str)\n",
    "#90986\n",
    "#D1=file['Scientific Name with Author'].str.find('vulgaris').sum()\n",
    "#print(D1)   #89334\n",
    "\n",
    "file['Scientific Name with Author'].str.contains('vulgaris').sum()\n",
    "\n",
    "#count the enumber of instances the term vulgaris appears \n",
    "#str.count('vulgaris').sum()\n",
    "\n"
   ]
  },
  {
   "cell_type": "markdown",
   "metadata": {},
   "source": [
    "### Questionnaire\n",
    "1) How long did you spend on this assignment?\n",
    "I feel like i spent a couple hours on this assignment once i found the line of code from the lecture code 09. Then it went really quick. Then i got stuck on question d.\n",
    "\n",
    "2) What did you like about it? What did you not like about it?\n",
    "There wasn't anything i didn't really like about this project. I thought it was ok.\n",
    "\n",
    "\n",
    "3) Did you find any errors or is there anything you would like changed?\n",
    "I didn't find any errors in the project. "
   ]
  },
  {
   "cell_type": "code",
   "execution_count": null,
   "metadata": {},
   "outputs": [],
   "source": []
  }
 ],
 "metadata": {
  "kernelspec": {
   "display_name": "Python 3 (ipykernel)",
   "language": "python",
   "name": "python3"
  },
  "language_info": {
   "codemirror_mode": {
    "name": "ipython",
    "version": 3
   },
   "file_extension": ".py",
   "mimetype": "text/x-python",
   "name": "python",
   "nbconvert_exporter": "python",
   "pygments_lexer": "ipython3",
   "version": "3.9.13"
  }
 },
 "nbformat": 4,
 "nbformat_minor": 2
}
